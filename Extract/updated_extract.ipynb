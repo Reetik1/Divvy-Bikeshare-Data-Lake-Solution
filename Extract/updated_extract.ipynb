{
 "cells": [
  {
   "cell_type": "code",
   "execution_count": 0,
   "metadata": {
    "application/vnd.databricks.v1+cell": {
     "cellMetadata": {
      "byteLimit": 2048000,
      "rowLimit": 10000
     },
     "inputWidgets": {},
     "nuid": "f21889e9-b358-4a2a-8efa-6150d335f5a0",
     "showTitle": false,
     "tableResultSettingsMap": {},
     "title": ""
    }
   },
   "outputs": [
    {
     "output_type": "stream",
     "name": "stdout",
     "output_type": "stream",
     "text": [
      "\n  extract step start \n----------------------------------------------------------------------\n\nLoading payments into bronze...\n bronze_payments ready with 1,946,606 rows\n\nLoading riders into bronze...\n bronze_riders ready with 74,999 rows\n\nLoading stations into bronze...\n bronze_stations ready with 837 rows\n\nLoading trips into bronze...\n bronze_trips ready with 4,584,920 rows\n\n bronze laye complete \n======================================================================\n\n Verify extract tables \n======================================================================\n\nTable: bronze_payments\n----------------------------------------\n Row count   : 1,946,606\n Column count: 4\n Schema:\n   payment_id (bigint)\n   payment_date (date)\n   amount (double)\n   rider_id (bigint)\n Preview:\n+----------+------------+------+--------+\n|payment_id|payment_date|amount|rider_id|\n+----------+------------+------+--------+\n|   1012544|  2021-11-01|   9.0|   40136|\n|   1012545|  2021-12-01|   9.0|   40136|\n+----------+------------+------+--------+\nonly showing top 2 rows\n\nTable: bronze_riders\n----------------------------------------\n Row count   : 74,999\n Column count: 7\n Schema:\n   rider_id (bigint)\n   first_name (string)\n   last_name (string)\n   address (string)\n   birthday (date)\n   account_start_date (date)\n   is_member (boolean)\n Preview:\n+--------+----------+---------+--------------+----------+------------------+---------+\n|rider_id|first_name|last_name|       address|  birthday|account_start_date|is_member|\n+--------+----------+---------+--------------+----------+------------------+---------+\n|   45567|   Caitlyn|   Mendez|4772 Eric Lock|1980-10-02|        2021-05-04|     true|\n|   45568|   Madison|    Burns| 181 Kerr Flat|1975-01-02|        2016-09-30|     true|\n+--------+----------+---------+--------------+----------+------------------+---------+\nonly showing top 2 rows\n\nTable: bronze_stations\n----------------------------------------\n Row count   : 837\n Column count: 4\n Schema:\n   station_id (string)\n   station_name (string)\n   latitude (double)\n   longitude (double)\n Preview:\n+------------+--------------------+-----------------+------------------+\n|  station_id|        station_name|         latitude|         longitude|\n+------------+--------------------+-----------------+------------------+\n|KA1503000012|  Clark St & Lake St|41.88579466666667|-87.63110066666668|\n|         637|Wood St & Chicago...|        41.895634|        -87.672069|\n+------------+--------------------+-----------------+------------------+\nonly showing top 2 rows\n\nTable: bronze_trips\n----------------------------------------\n Row count   : 4,584,920\n Column count: 7\n Schema:\n   trip_id (string)\n   bike_type (string)\n   start_time (timestamp)\n   end_time (timestamp)\n   start_station_id (string)\n   end_station_id (string)\n   rider_id (bigint)\n Preview:\n+----------------+------------+-------------------+-------------------+----------------+--------------+--------+\n|         trip_id|   bike_type|         start_time|           end_time|start_station_id|end_station_id|rider_id|\n+----------------+------------+-------------------+-------------------+----------------+--------------+--------+\n|C86098D6DCABEF79|classic_bike|2021-09-05 12:57:50|2021-09-05 13:25:42|          LF-005|         13008|   19120|\n|2DBDECA3F277F80F|classic_bike|2021-09-05 11:50:37|2021-09-05 11:54:24|          LF-005|  TA1308000050|   40375|\n+----------------+------------+-------------------+-------------------+----------------+--------------+--------+\nonly showing top 2 rows\n"
     ]
    }
   ],
   "source": [
    "###extract layer###\n",
    "\n",
    "print(\"\\n  extract step start \")\n",
    "print(\"-\" * 70)\n",
    "\n",
    "# Utility function to streamline renaming + writing\n",
    "def create_bronze_table(src_table, new_cols, target_table):\n",
    "    \"\"\"\n",
    "    Reads from a source table, assigns clean column names,\n",
    "    and saves it into the bronze schema.\n",
    "    \"\"\"\n",
    "    df = spark.table(src_table).toDF(*new_cols)\n",
    "    df.write.mode(\"overwrite\").option(\"overwriteSchema\", \"true\").saveAsTable(target_table)\n",
    "    print(f\" {target_table} ready with {df.count():,} rows\")\n",
    "    return df\n",
    "\n",
    "# Payments\n",
    "print(\"\\nLoading payments into bronze...\")\n",
    "bronze_payments_df = create_bronze_table(\n",
    "    \"payments\",\n",
    "    [\"payment_id\", \"payment_date\", \"amount\", \"rider_id\"],\n",
    "    \"bronze_payments\"\n",
    ")\n",
    "\n",
    "# Riders\n",
    "print(\"\\nLoading riders into bronze...\")\n",
    "bronze_riders_df = create_bronze_table(\n",
    "    \"riders\",\n",
    "    [\"rider_id\", \"first_name\", \"last_name\", \"address\", \"birthday\", \"account_start_date\", \"is_member\"],\n",
    "    \"bronze_riders\"\n",
    ")\n",
    "\n",
    "# Stations\n",
    "print(\"\\nLoading stations into bronze...\")\n",
    "bronze_stations_df = create_bronze_table(\n",
    "    \"stations\",\n",
    "    [\"station_id\", \"station_name\", \"latitude\", \"longitude\"],\n",
    "    \"bronze_stations\"\n",
    ")\n",
    "\n",
    "# Trips\n",
    "print(\"\\nLoading trips into bronze...\")\n",
    "bronze_trips_df = create_bronze_table(\n",
    "    \"trips\",\n",
    "    [\"trip_id\", \"bike_type\", \"start_time\", \"end_time\", \"start_station_id\", \"end_station_id\", \"rider_id\"],\n",
    "    \"bronze_trips\"\n",
    ")\n",
    "\n",
    "print(\"\\n bronze laye complete \")\n",
    "print(\"=\" * 70)\n",
    "\n",
    "##verify##\n",
    "\n",
    "print(\"\\n Verify extract tables \")\n",
    "print(\"=\" * 70)\n",
    "\n",
    "for table in [\"bronze_payments\", \"bronze_riders\", \"bronze_stations\", \"bronze_trips\"]:\n",
    "    df = spark.table(table)\n",
    "    print(f\"\\nTable: {table}\")\n",
    "    print(\"-\" * 40)\n",
    "    print(f\" Row count   : {df.count():,}\")\n",
    "    print(f\" Column count: {len(df.columns)}\")\n",
    "    print(\" Schema:\")\n",
    "    for cname, ctype in df.dtypes:\n",
    "        print(f\"   {cname} ({ctype})\")\n",
    "    print(\" Preview:\")\n",
    "    df.show(2, truncate=True)"
   ]
  }
 ],
 "metadata": {
  "application/vnd.databricks.v1+notebook": {
   "computePreferences": null,
   "dashboards": [],
   "environmentMetadata": {
    "base_environment": "",
    "environment_version": "3"
   },
   "inputWidgetPreferences": null,
   "language": "python",
   "notebookMetadata": {
    "pythonIndentUnit": 4
   },
   "notebookName": "updated_extract",
   "widgets": {}
  },
  "language_info": {
   "name": "python"
  }
 },
 "nbformat": 4,
 "nbformat_minor": 0
}