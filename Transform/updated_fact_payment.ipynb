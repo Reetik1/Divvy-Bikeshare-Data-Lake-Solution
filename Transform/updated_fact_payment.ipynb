{
 "cells": [
  {
   "cell_type": "code",
   "execution_count": 0,
   "metadata": {
    "application/vnd.databricks.v1+cell": {
     "cellMetadata": {
      "byteLimit": 2048000,
      "rowLimit": 10000
     },
     "inputWidgets": {},
     "nuid": "f21889e9-b358-4a2a-8efa-6150d335f5a0",
     "showTitle": false,
     "tableResultSettingsMap": {},
     "title": ""
    }
   },
   "outputs": [
    {
     "output_type": "stream",
     "name": "stdout",
     "output_type": "stream",
     "text": [
      "\n Create fact_payment...\n fact_payment created: 1,946,573 rows\n\n Sample Payment Facts with Business metric:\n+----------+---------+--------------+--------------+---------------------+-------------------------+\n|payment_id|rider_key|payment_amount|  payment_type|member_age_at_payment|account_tenure_at_payment|\n+----------+---------+--------------+--------------+---------------------+-------------------------+\n|        35|     1001|           9.0|Member Payment|                   43|                     0.08|\n|        36|     1001|           9.0|Member Payment|                   43|                     0.17|\n|        37|     1001|           9.0|Member Payment|                   43|                     0.25|\n|        38|     1001|           9.0|Member Payment|                   43|                     0.33|\n|        39|     1001|           9.0|Member Payment|                   43|                     0.42|\n+----------+---------+--------------+--------------+---------------------+-------------------------+\nonly showing top 5 rows\n\n FACT TABLES COMPLETED!\n======================================================================\n"
     ]
    }
   ],
   "source": [
    "##fact_payment###\n",
    "\n",
    "print(\"\\n Create fact_payment...\")\n",
    "\n",
    "fact_payment = spark.sql(\"\"\"\n",
    "    SELECT \n",
    "        -- Primary Key\n",
    "        p.payment_id,\n",
    "        \n",
    "        -- Foreign Keys to Dimensions  \n",
    "        p.rider_id as rider_key,\n",
    "        DATE_FORMAT(p.payment_date, 'yyyyMMdd') as date_key,\n",
    "        \n",
    "        -- FACTS - Core Business Metrics\n",
    "        p.amount as payment_amount,\n",
    "        \n",
    "        -- Time Attributes for Quick Analysis\n",
    "        YEAR(p.payment_date) as payment_year,\n",
    "        MONTH(p.payment_date) as payment_month,\n",
    "        QUARTER(p.payment_date) as payment_quarter,\n",
    "        \n",
    "        -- Derived Business Fields\n",
    "        CASE \n",
    "            WHEN r.is_member = true THEN 'Member Payment'\n",
    "            ELSE 'Casual Payment'\n",
    "        END as payment_type,\n",
    "        \n",
    "        -- Member age at time of payment for demographic analysis\n",
    "        FLOOR(DATEDIFF(p.payment_date, r.birthday) / 365.25) as member_age_at_payment,\n",
    "        \n",
    "        -- Account tenure at payment time\n",
    "        ROUND(DATEDIFF(p.payment_date, r.account_start_date) / 365.25, 2) as account_tenure_at_payment\n",
    "        \n",
    "    FROM bronze_payments p\n",
    "    INNER JOIN bronze_riders r ON p.rider_id = r.rider_id\n",
    "    WHERE p.payment_date IS NOT NULL\n",
    "      AND p.amount > 0  -- Data quality check\n",
    "\"\"\")\n",
    "\n",
    "# Write with partitioning by year for performance\n",
    "fact_payment.write \\\n",
    "    .mode(\"overwrite\") \\\n",
    "    .option(\"overwriteSchema\", \"true\") \\\n",
    "    .partitionBy(\"payment_year\") \\\n",
    "    .saveAsTable(\"gold_fact_payment\")\n",
    "\n",
    "payment_count = fact_payment.count()\n",
    "print(f\" fact_payment created: {payment_count:,} rows\")\n",
    "\n",
    "# Show sample with business metrics\n",
    "print(\"\\n Sample Payment Facts with Business metric:\")\n",
    "fact_payment.select(\"payment_id\", \"rider_key\", \"payment_amount\", \"payment_type\", \n",
    "                    \"member_age_at_payment\", \"account_tenure_at_payment\").show(5)\n",
    "\n",
    "print(\"\\n FACT TABLES COMPLETED!\")\n",
    "print(\"=\"*70)"
   ]
  }
 ],
 "metadata": {
  "application/vnd.databricks.v1+notebook": {
   "computePreferences": null,
   "dashboards": [],
   "environmentMetadata": {
    "base_environment": "",
    "environment_version": "3"
   },
   "inputWidgetPreferences": null,
   "language": "python",
   "notebookMetadata": {
    "pythonIndentUnit": 4
   },
   "notebookName": "updated_fact_payment",
   "widgets": {}
  },
  "language_info": {
   "name": "python"
  }
 },
 "nbformat": 4,
 "nbformat_minor": 0
}