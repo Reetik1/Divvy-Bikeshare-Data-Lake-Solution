{
 "cells": [
  {
   "cell_type": "code",
   "execution_count": 0,
   "metadata": {
    "application/vnd.databricks.v1+cell": {
     "cellMetadata": {
      "byteLimit": 2048000,
      "rowLimit": 10000
     },
     "inputWidgets": {},
     "nuid": "f21889e9-b358-4a2a-8efa-6150d335f5a0",
     "showTitle": false,
     "tableResultSettingsMap": {},
     "title": ""
    }
   },
   "outputs": [
    {
     "output_type": "stream",
     "name": "stdout",
     "output_type": "stream",
     "text": [
      " CREATE - FACT TABLES\n======================================================================\n\n Create fact_trip...\n fact_trip created: 4,584,706 rows\n\n Sample Trip Facts with business metric:\n+----------------+---------+---------------------+-----------------+--------------+------------------+\n|         trip_id|rider_key|trip_duration_minutes|rider_age_at_trip|is_member_trip|trip_time_category|\n+----------------+---------+---------------------+-----------------+--------------+------------------+\n|DF22914D785D9CE3|    27676|                17.27|               63|         false|    Business Hours|\n|191FD832FAB509E6|    55684|                 0.05|               19|         false|         Off Hours|\n|A69A7D200767C66D|    23828|               114.77|               21|          true|    Business Hours|\n|17CE1AFAADB4E5EC|    40707|                71.20|               15|          true|    Business Hours|\n|9D4345488835D46B|    26602|                15.83|               17|          true|    Business Hours|\n+----------------+---------+---------------------+-----------------+--------------+------------------+\nonly showing top 5 rows\n"
     ]
    }
   ],
   "source": [
    "##fact_trip###\n",
    "\n",
    "\n",
    "print(\" CREATE - FACT TABLES\")\n",
    "print(\"=\"*70)\n",
    "\n",
    "# FACT_TRIP - Primary fact table for time/ride analysis\n",
    "print(\"\\n Create fact_trip...\")\n",
    "\n",
    "fact_trip = spark.sql(\"\"\"\n",
    "    SELECT \n",
    "        -- Primary Key\n",
    "        t.trip_id,\n",
    "        \n",
    "        -- Foreign Keys to Dimensions\n",
    "        t.rider_id as rider_key,\n",
    "        t.start_station_id as start_station_key,\n",
    "        t.end_station_id as end_station_key,\n",
    "        DATE_FORMAT(DATE(t.start_time), 'yyyyMMdd') as date_key,\n",
    "        HOUR(t.start_time) * 100 as time_key,\n",
    "        \n",
    "        -- FACTS - Core Business Metrics\n",
    "        ROUND((UNIX_TIMESTAMP(t.end_time) - UNIX_TIMESTAMP(t.start_time)) / 60.0, 2) as trip_duration_minutes,\n",
    "        FLOOR(DATEDIFF(DATE(t.start_time), r.birthday) / 365.25) as rider_age_at_trip,\n",
    "        r.is_member as is_member_trip,\n",
    "        \n",
    "        -- Additional Attributes\n",
    "        t.bike_type,\n",
    "        t.start_time,\n",
    "        t.end_time,\n",
    "        \n",
    "        -- Derived Fields for Analysis\n",
    "        CASE \n",
    "            WHEN HOUR(t.start_time) BETWEEN 7 AND 9 THEN 'Morning Rush'\n",
    "            WHEN HOUR(t.start_time) BETWEEN 17 AND 19 THEN 'Evening Rush'\n",
    "            WHEN HOUR(t.start_time) BETWEEN 9 AND 17 THEN 'Business Hours'\n",
    "            ELSE 'Off Hours'\n",
    "        END as trip_time_category\n",
    "        \n",
    "    FROM bronze_trips t\n",
    "    INNER JOIN bronze_riders r ON t.rider_id = r.rider_id\n",
    "    WHERE t.start_time IS NOT NULL \n",
    "      AND t.end_time IS NOT NULL\n",
    "      AND t.end_time > t.start_time  -- Data quality check\n",
    "\"\"\")\n",
    "\n",
    "# Write with partitioning by date for performance\n",
    "fact_trip.write \\\n",
    "    .mode(\"overwrite\") \\\n",
    "    .option(\"overwriteSchema\", \"true\") \\\n",
    "    .partitionBy(\"date_key\") \\\n",
    "    .saveAsTable(\"gold_fact_trip\")\n",
    "\n",
    "trip_count = fact_trip.count()\n",
    "print(f\" fact_trip created: {trip_count:,} rows\")\n",
    "\n",
    "# Show sample with business metrics\n",
    "print(\"\\n Sample Trip Facts with business metric:\")\n",
    "fact_trip.select(\"trip_id\", \"rider_key\", \"trip_duration_minutes\", \"rider_age_at_trip\", \n",
    "                 \"is_member_trip\", \"trip_time_category\").show(5)"
   ]
  }
 ],
 "metadata": {
  "application/vnd.databricks.v1+notebook": {
   "computePreferences": null,
   "dashboards": [],
   "environmentMetadata": {
    "base_environment": "",
    "environment_version": "3"
   },
   "inputWidgetPreferences": null,
   "language": "python",
   "notebookMetadata": {
    "pythonIndentUnit": 4
   },
   "notebookName": "updated_fact_trip",
   "widgets": {}
  },
  "language_info": {
   "name": "python"
  }
 },
 "nbformat": 4,
 "nbformat_minor": 0
}